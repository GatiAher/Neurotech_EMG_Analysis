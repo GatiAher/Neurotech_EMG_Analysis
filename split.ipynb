{
 "metadata": {
  "language_info": {
   "codemirror_mode": {
    "name": "ipython",
    "version": 3
   },
   "file_extension": ".py",
   "mimetype": "text/x-python",
   "name": "python",
   "nbconvert_exporter": "python",
   "pygments_lexer": "ipython3",
   "version": "3.8.5"
  },
  "orig_nbformat": 2,
  "kernelspec": {
   "name": "python385jvsc74a57bd0e1b00ac65c1886c67595331786f4122f630ce33889c2a56fa38bfb80510523e6",
   "display_name": "Python 3.8.5 64-bit ('NTEnv': conda)"
  },
  "metadata": {
   "interpreter": {
    "hash": "e1b00ac65c1886c67595331786f4122f630ce33889c2a56fa38bfb80510523e6"
   }
  }
 },
 "nbformat": 4,
 "nbformat_minor": 2,
 "cells": [
  {
   "cell_type": "code",
   "execution_count": 2,
   "metadata": {},
   "outputs": [],
   "source": [
    "import numpy as np\n",
    "import pandas as pd\n",
    "from sklearn.model_selection import train_test_split\n",
    "\n",
    "import matplotlib\n",
    "import matplotlib.pyplot as plt"
   ]
  },
  {
   "cell_type": "code",
   "execution_count": 16,
   "metadata": {},
   "outputs": [],
   "source": [
    "# split data into train, test, and validation\n",
    "np.random.seed(42)\n",
    "\n",
    "# randomly distribute\n",
    "idx = np.arange(180)\n",
    "np.random.shuffle(idx)\n",
    "\n",
    "# split 180 samples into 70:15:15 split (126:27:27)\n",
    "train_idx = idx[:126]\n",
    "test_idx = idx[126:126+27]\n",
    "val_idx = idx[126+27:]"
   ]
  },
  {
   "cell_type": "code",
   "execution_count": 19,
   "metadata": {},
   "outputs": [
    {
     "output_type": "stream",
     "name": "stdout",
     "text": [
      "(180, 3)\n"
     ]
    }
   ],
   "source": [
    "X_rms = np.loadtxt(\"data/RMS.csv\", delimiter=',')\n",
    "print(X_rms.shape)\n",
    "\n",
    "np.savetxt(\"train_data/RMS.csv\", X_rms[train_idx], delimiter=',')\n",
    "np.savetxt(\"test_data/RMS.csv\", X_rms[test_idx], delimiter=',')\n",
    "np.savetxt(\"validation_data/RMS.csv\", X_rms[val_idx], delimiter=',')"
   ]
  },
  {
   "cell_type": "code",
   "execution_count": 18,
   "metadata": {},
   "outputs": [
    {
     "output_type": "stream",
     "name": "stdout",
     "text": [
      "(180,)\n(180,)\n"
     ]
    }
   ],
   "source": [
    "y_action = np.loadtxt(\"data/labels_actions.csv\")\n",
    "print(y_action.shape)\n",
    "y_people = np.loadtxt(\"data/labels_people.csv\")\n",
    "print(y_people.shape)\n",
    "\n",
    "np.savetxt(\"train_data/labels_actions.csv\", y_action[train_idx], delimiter=',')\n",
    "np.savetxt(\"test_data/labels_actions.csv\", y_action[test_idx], delimiter=',')\n",
    "np.savetxt(\"validation_data/labels_actions.csv\", y_action[val_idx], delimiter=',')\n",
    "\n",
    "np.savetxt(\"train_data/labels_people.csv\", y_people[train_idx], delimiter=',')\n",
    "np.savetxt(\"test_data/labels_people.csv\", y_people[test_idx], delimiter=',')\n",
    "np.savetxt(\"validation_data/labels_people.csv\", y_people[val_idx], delimiter=',')"
   ]
  },
  {
   "cell_type": "code",
   "execution_count": 30,
   "metadata": {},
   "outputs": [
    {
     "output_type": "stream",
     "name": "stdout",
     "text": [
      "AR coef shape: (180, 6)\ncombo shape: (180, 9)\n---\nAR coef shape: (180, 9)\ncombo shape: (180, 12)\n---\nAR coef shape: (180, 12)\ncombo shape: (180, 15)\n---\nAR coef shape: (180, 15)\ncombo shape: (180, 18)\n---\nAR coef shape: (180, 18)\ncombo shape: (180, 21)\n---\nAR coef shape: (180, 30)\ncombo shape: (180, 33)\n---\nAR coef shape: (180, 48)\ncombo shape: (180, 51)\n---\nAR coef shape: (180, 90)\ncombo shape: (180, 93)\n---\n"
     ]
    }
   ],
   "source": [
    "# I have sets of data (different orders of AR coefficients)\n",
    "p_orders = [2, 3, 4, 5, 6, 10, 16, 30]\n",
    "\n",
    "for p, p_order in enumerate(p_orders):\n",
    "    filename = \"AR_coef_p_order_{p_order}.csv\".format(p_order = p_order)\n",
    "    X = np.loadtxt(\"data/\"+filename, delimiter=',')\n",
    "    print(\"AR coef shape:\", X.shape)\n",
    "    # np.savetxt(\"train_data/\"+filename, X[train_idx], delimiter=',')\n",
    "    # np.savetxt(\"test_data/\"+filename, X[test_idx], delimiter=',')\n",
    "    # np.savetxt(\"validation_data/\"+filename, X[val_idx], delimiter=',')\n",
    "\n",
    "    # add RMS features\n",
    "    filename = \"AR_coef_p_order_{p_order}_with_RMS.csv\".format(p_order = p_order)\n",
    "    X_combo = np.hstack((X,X_rms))\n",
    "    print(\"combo shape:\", X_combo.shape)\n",
    "    np.savetxt(\"train_data/\"+filename, X_combo[train_idx], delimiter=',')\n",
    "    np.savetxt(\"test_data/\"+filename, X_combo[test_idx], delimiter=',')\n",
    "    np.savetxt(\"validation_data/\"+filename, X_combo[val_idx], delimiter=',')\n",
    "\n",
    "    print(\"---\")"
   ]
  }
 ]
}